{
 "cells": [
  {
   "cell_type": "code",
   "execution_count": 1,
   "id": "05504982-f903-4234-b03e-fbe8619d7d52",
   "metadata": {},
   "outputs": [],
   "source": [
    "import joblib\n",
    "import pandas as pd\n",
    "\n",
    "model = joblib.load('titanic_model.pkl')\n",
    "scaler = joblib.load('scaler.pkl')\n"
   ]
  },
  {
   "cell_type": "code",
   "execution_count": 3,
   "id": "7a0eca2d-04d2-4550-aecd-3f888431fc13",
   "metadata": {},
   "outputs": [],
   "source": [
    "# new data\n",
    "X_new = pd.DataFrame({\n",
    "    'Pclass': [3],\n",
    "    'Age': [25],\n",
    "    'SibSp': [0],\n",
    "    'Parch': [0],\n",
    "    'Fare': [7.25],\n",
    "    'Sex_male':[1],\n",
    "    'Embarked_Q': [0],\n",
    "    'Embarked_S': [1],\n",
    "    'FamilySize': [1],\n",
    "    'IsAlone': [1]\n",
    "})\n",
    "    "
   ]
  },
  {
   "cell_type": "code",
   "execution_count": 4,
   "id": "071f085e-cf70-4717-80f9-9401809e780a",
   "metadata": {},
   "outputs": [],
   "source": [
    "# scale new data\n",
    "X_new_scaled = scaler.transform(X_new)\n"
   ]
  },
  {
   "cell_type": "code",
   "execution_count": 5,
   "id": "a7260533-16e9-4dfe-9c16-6dfb6a07a42e",
   "metadata": {},
   "outputs": [
    {
     "name": "stdout",
     "output_type": "stream",
     "text": [
      "[0]\n"
     ]
    }
   ],
   "source": [
    "# make a prediction based on a scaled new data\n",
    "predictions = model.predict(X_new_scaled)\n",
    "print(predictions)"
   ]
  },
  {
   "cell_type": "code",
   "execution_count": null,
   "id": "e0f7bfb3-1ba1-4cea-b450-e8128ed3ea08",
   "metadata": {},
   "outputs": [],
   "source": []
  }
 ],
 "metadata": {
  "kernelspec": {
   "display_name": "Python 3 (ipykernel)",
   "language": "python",
   "name": "python3"
  },
  "language_info": {
   "codemirror_mode": {
    "name": "ipython",
    "version": 3
   },
   "file_extension": ".py",
   "mimetype": "text/x-python",
   "name": "python",
   "nbconvert_exporter": "python",
   "pygments_lexer": "ipython3",
   "version": "3.12.6"
  }
 },
 "nbformat": 4,
 "nbformat_minor": 5
}
